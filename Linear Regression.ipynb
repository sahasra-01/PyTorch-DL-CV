{
 "cells": [
  {
   "cell_type": "code",
   "execution_count": 1,
   "metadata": {},
   "outputs": [],
   "source": [
    "import torch\n",
    "import torch.nn as nn\n",
    "import matplotlib.pyplot as plt\n",
    "import numpy as np"
   ]
  },
  {
   "cell_type": "code",
   "execution_count": 2,
   "metadata": {},
   "outputs": [
    {
     "data": {
      "text/plain": [
       "Text(0.5, 0, 'x')"
      ]
     },
     "execution_count": 2,
     "metadata": {},
     "output_type": "execute_result"
    },
    {
     "data": {
      "image/png": "[encoded data removed]",
      "text/plain": [
       "<Figure size 432x288 with 1 Axes>"
      ]
     },
     "metadata": {
      "needs_background": "light"
     },
     "output_type": "display_data"
    }
   ],
   "source": [
    "X = torch.randn(100, 1)*10\n",
    "y = X + 3*torch.randn(100, 1)\n",
    "plt.plot(X.numpy(), y.numpy(), 'o')\n",
    "plt.ylabel('y')\n",
    "plt.xlabel('x')"
   ]
  },
  {
   "cell_type": "code",
   "execution_count": 3,
   "metadata": {},
   "outputs": [],
   "source": [
    "class LR(nn.Module):\n",
    "  def __init__(self, input_size, output_size):\n",
    "    super().__init__()\n",
    "    self.linear = nn.Linear(input_size, output_size)\n",
    "  def forward(self, x):\n",
    "    pred = self.linear(x)\n",
    "    return pred"
   ]
  },
  {
   "cell_type": "code",
   "execution_count": 4,
   "metadata": {},
   "outputs": [
    {
     "name": "stdout",
     "output_type": "stream",
     "text": [
      "LR(\n",
      "  (linear): Linear(in_features=1, out_features=1, bias=True)\n",
      ")\n"
     ]
    }
   ],
   "source": [
    "torch.manual_seed(1)\n",
    "model = LR(1, 1)\n",
    "print(model)"
   ]
  },
  {
   "cell_type": "code",
   "execution_count": 5,
   "metadata": {},
   "outputs": [],
   "source": [
    "[w,b] = model.parameters()\n",
    "\n",
    "def get_params():\n",
    "    return (w[0][0].item(), b[0].item())"
   ]
  },
  {
   "cell_type": "code",
   "execution_count": 6,
   "metadata": {},
   "outputs": [],
   "source": [
    "def plot_fit(title):\n",
    "  plt.title = title\n",
    "  w1, b1 = get_params()\n",
    "  x1 = np.array([-30, 30])\n",
    "  y1 = w1*x1 + b1\n",
    "  plt.plot(x1, y1, 'r')\n",
    "  plt.scatter(X, y)\n",
    "  plt.show()"
   ]
  },
  {
   "cell_type": "code",
   "execution_count": 7,
   "metadata": {},
   "outputs": [
    {
     "data": {
      "image/png": "[encoded data removed]",
      "text/plain": [
       "<Figure size 432x288 with 1 Axes>"
      ]
     },
     "metadata": {
      "needs_background": "light"
     },
     "output_type": "display_data"
    }
   ],
   "source": [
    "plot_fit('Initial Model')"
   ]
  },
  {
   "cell_type": "code",
   "execution_count": 8,
   "metadata": {},
   "outputs": [],
   "source": [
    "criterion = nn.MSELoss()\n",
    "optimizer = torch.optim.SGD(model.parameters(), lr = 0.01)"
   ]
  },
  {
   "cell_type": "code",
   "execution_count": 9,
   "metadata": {},
   "outputs": [
    {
     "name": "stdout",
     "output_type": "stream",
     "text": [
      "epoch: 0 loss: 28.098552703857422\n",
      "epoch: 1 loss: 23.643329620361328\n",
      "epoch: 2 loss: 20.250816345214844\n",
      "epoch: 3 loss: 17.666976928710938\n",
      "epoch: 4 loss: 15.698525428771973\n",
      "epoch: 5 loss: 14.198383331298828\n",
      "epoch: 6 loss: 13.054638862609863\n",
      "epoch: 7 loss: 12.182149887084961\n",
      "epoch: 8 loss: 11.516135215759277\n",
      "epoch: 9 loss: 11.007296562194824\n",
      "epoch: 10 loss: 10.618125915527344\n",
      "epoch: 11 loss: 10.320084571838379\n",
      "epoch: 12 loss: 10.091449737548828\n",
      "epoch: 13 loss: 9.91569995880127\n",
      "epoch: 14 loss: 9.780254364013672\n",
      "epoch: 15 loss: 9.675541877746582\n",
      "epoch: 16 loss: 9.594278335571289\n",
      "epoch: 17 loss: 9.530913352966309\n",
      "epoch: 18 loss: 9.481230735778809\n",
      "epoch: 19 loss: 9.44201374053955\n",
      "epoch: 20 loss: 9.410815238952637\n",
      "epoch: 21 loss: 9.38576889038086\n",
      "epoch: 22 loss: 9.365455627441406\n",
      "epoch: 23 loss: 9.34879207611084\n",
      "epoch: 24 loss: 9.334953308105469\n",
      "epoch: 25 loss: 9.323307037353516\n",
      "epoch: 26 loss: 9.313375473022461\n",
      "epoch: 27 loss: 9.304786682128906\n",
      "epoch: 28 loss: 9.297262191772461\n",
      "epoch: 29 loss: 9.290584564208984\n",
      "epoch: 30 loss: 9.284588813781738\n",
      "epoch: 31 loss: 9.279149055480957\n",
      "epoch: 32 loss: 9.274165153503418\n",
      "epoch: 33 loss: 9.269560813903809\n",
      "epoch: 34 loss: 9.265275001525879\n",
      "epoch: 35 loss: 9.261265754699707\n",
      "epoch: 36 loss: 9.257494926452637\n",
      "epoch: 37 loss: 9.253931045532227\n",
      "epoch: 38 loss: 9.250555038452148\n",
      "epoch: 39 loss: 9.247346878051758\n",
      "epoch: 40 loss: 9.244290351867676\n",
      "epoch: 41 loss: 9.241373062133789\n",
      "epoch: 42 loss: 9.238587379455566\n",
      "epoch: 43 loss: 9.235920906066895\n",
      "epoch: 44 loss: 9.233366966247559\n",
      "epoch: 45 loss: 9.230920791625977\n",
      "epoch: 46 loss: 9.2285737991333\n",
      "epoch: 47 loss: 9.226323127746582\n",
      "epoch: 48 loss: 9.224163055419922\n",
      "epoch: 49 loss: 9.222088813781738\n",
      "epoch: 50 loss: 9.220098495483398\n",
      "epoch: 51 loss: 9.218185424804688\n",
      "epoch: 52 loss: 9.216348648071289\n",
      "epoch: 53 loss: 9.214585304260254\n",
      "epoch: 54 loss: 9.212888717651367\n",
      "epoch: 55 loss: 9.211261749267578\n",
      "epoch: 56 loss: 9.209696769714355\n",
      "epoch: 57 loss: 9.208192825317383\n",
      "epoch: 58 loss: 9.206748008728027\n",
      "epoch: 59 loss: 9.20535945892334\n",
      "epoch: 60 loss: 9.204024314880371\n",
      "epoch: 61 loss: 9.202742576599121\n",
      "epoch: 62 loss: 9.201510429382324\n",
      "epoch: 63 loss: 9.200325965881348\n",
      "epoch: 64 loss: 9.199187278747559\n",
      "epoch: 65 loss: 9.198095321655273\n",
      "epoch: 66 loss: 9.197042465209961\n",
      "epoch: 67 loss: 9.196033477783203\n",
      "epoch: 68 loss: 9.195061683654785\n",
      "epoch: 69 loss: 9.194129943847656\n",
      "epoch: 70 loss: 9.193232536315918\n",
      "epoch: 71 loss: 9.192370414733887\n",
      "epoch: 72 loss: 9.191542625427246\n",
      "epoch: 73 loss: 9.190747261047363\n",
      "epoch: 74 loss: 9.189983367919922\n",
      "epoch: 75 loss: 9.189247131347656\n",
      "epoch: 76 loss: 9.188539505004883\n",
      "epoch: 77 loss: 9.187862396240234\n",
      "epoch: 78 loss: 9.187209129333496\n",
      "epoch: 79 loss: 9.1865816116333\n",
      "epoch: 80 loss: 9.185979843139648\n",
      "epoch: 81 loss: 9.185399055480957\n",
      "epoch: 82 loss: 9.184842109680176\n",
      "epoch: 83 loss: 9.184309005737305\n",
      "epoch: 84 loss: 9.183794975280762\n",
      "epoch: 85 loss: 9.183300018310547\n",
      "epoch: 86 loss: 9.182826042175293\n",
      "epoch: 87 loss: 9.182368278503418\n",
      "epoch: 88 loss: 9.181929588317871\n",
      "epoch: 89 loss: 9.181509017944336\n",
      "epoch: 90 loss: 9.181102752685547\n",
      "epoch: 91 loss: 9.180713653564453\n",
      "epoch: 92 loss: 9.180339813232422\n",
      "epoch: 93 loss: 9.179980278015137\n",
      "epoch: 94 loss: 9.179636001586914\n",
      "epoch: 95 loss: 9.179303169250488\n",
      "epoch: 96 loss: 9.178984642028809\n",
      "epoch: 97 loss: 9.17867660522461\n",
      "epoch: 98 loss: 9.178380966186523\n",
      "epoch: 99 loss: 9.178099632263184\n"
     ]
    }
   ],
   "source": [
    "epochs = 100\n",
    "losses = []\n",
    "for i in range(epochs):\n",
    "  y_pred = model.forward(X)\n",
    "  loss = criterion(y_pred, y)\n",
    "  print(\"epoch:\", i, \"loss:\", loss.item())\n",
    "  \n",
    "  losses.append(loss)\n",
    "  optimizer.zero_grad()\n",
    "  loss.backward()\n",
    "  optimizer.step()"
   ]
  },
  {
   "cell_type": "code",
   "execution_count": 10,
   "metadata": {},
   "outputs": [
    {
     "data": {
      "text/plain": [
       "Text(0.5, 0, 'Epochs')"
      ]
     },
     "execution_count": 10,
     "metadata": {},
     "output_type": "execute_result"
    },
    {
     "data": {
      "image/png": "[encoded data removed]",
      "text/plain": [
       "<Figure size 432x288 with 1 Axes>"
      ]
     },
     "metadata": {
      "needs_background": "light"
     },
     "output_type": "display_data"
    }
   ],
   "source": [
    "plt.plot(range(epochs), losses)\n",
    "plt.ylabel('Loss')\n",
    "plt.xlabel('Epochs')"
   ]
  },
  {
   "cell_type": "code",
   "execution_count": 11,
   "metadata": {},
   "outputs": [
    {
     "data": {
      "image/png": "[encoded data removed]",
      "text/plain": [
       "<Figure size 432x288 with 1 Axes>"
      ]
     },
     "metadata": {
      "needs_background": "light"
     },
     "output_type": "display_data"
    }
   ],
   "source": [
    "plot_fit(\"Trained Model\")"
   ]
  },
  {
   "cell_type": "code",
   "execution_count": null,
   "metadata": {},
   "outputs": [],
   "source": []
  }
 ],
 "metadata": {
  "kernelspec": {
   "display_name": "Python 3",
   "language": "python",
   "name": "python3"
  },
  "language_info": {
   "codemirror_mode": {
    "name": "ipython",
    "version": 3
   },
   "file_extension": ".py",
   "mimetype": "text/x-python",
   "name": "python",
   "nbconvert_exporter": "python",
   "pygments_lexer": "ipython3",
   "version": "3.8.2"
  }
 },
 "nbformat": 4,
 "nbformat_minor": 4
}
